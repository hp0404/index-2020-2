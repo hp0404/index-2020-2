{
 "cells": [
  {
   "cell_type": "markdown",
   "metadata": {},
   "source": [
    "## **P4 (Містобудування, ЖКГ, побутове, торговельне обслуговування, транспорт і зв’язок): 3/6**"
   ]
  },
  {
   "cell_type": "code",
   "execution_count": 1,
   "metadata": {},
   "outputs": [],
   "source": [
    "import numpy as np\n",
    "import pandas as pd\n",
    "from custom_func import *"
   ]
  },
  {
   "cell_type": "code",
   "execution_count": 2,
   "metadata": {},
   "outputs": [
    {
     "data": {
      "text/plain": [
       "'\\ndf_P04_005 = pd.read_excel(f\"{INPUTS_PATH}/P4/P04_005.xlsx\", dtype={\"КОАТУУ населеного пункту\": str})\\nsettlement = pd.read_excel(f\"{INPUTS_PATH}/P99/settlements.xlsx\")\\n\\nurban = [\"місто\", \"селище міського типу\"]\\nrural = [\"село\",  \"селище\"]\\n\\ndf_P04_005[\"param_type\"] = np.select(\\n    condlist=[\\n        df_P04_005[\"Тип населеного пункту (село, селище, селище міського типу, місто)\"].isin(urban),\\n        df_P04_005[\"Тип населеного пункту (село, селище, селище міського типу, місто)\"].isin(rural)\\n    ],\\n    choicelist=[\"p4_02_raw\", \"p4_03_raw\"],\\n    default= np.nan\\n)\\n\\ndf_P04_005_fin = df_P04_005.loc[\\n    (df_P04_005[\"Дата прийняття рішення про затвердження Генерального плану населеного пункту\"] <= \"2020-06-30\") &\\n    (df_P04_005[\"Дата прийняття рішення про затвердження Генерального плану населеного пункту\"] >= \"2020-04-01\")\\n]\\n\\ndf_P04_005_fin = df_P04_005.groupby([\"region\", \"param_type\"])[\"Населений пункт\"].size().reset_index()\\ndf_P04_005_fin = df_P04_005_fin.pivot(index=\\'region\\', columns=\\'param_type\\').fillna(0).reset_index()\\ndf_P04_005_fin.columns = df_P04_005_fin.columns.droplevel()\\ndf_P04_005_fin.columns = [\"region\", \"p4_02_raw\", \"p4_03_raw\"]\\n\\ndf_P04_005_fin = pd.merge(\\n    settlement.rename(columns={\"Кількість населених пунктів\": \"total\"}),\\n    df_P04_005_fin,\\n    how=\"outer\"\\n)\\n\\ndf_P04_005_fin[\"p4_02_raw\"] = df_P04_005_fin[\"p4_02_raw\"] / df_P04_005_fin[\"total\"]\\ndf_P04_005_fin[\"p4_03_raw\"] = df_P04_005_fin[\"p4_03_raw\"] / df_P04_005_fin[\"total\"]\\n\\nnormalize_parameter(df_P04_005_fin,\\'p4_02_raw\\',\\'p4_02\\',min_bound=0,max_bound=1)\\nnormalize_parameter(df_P04_005_fin,\\'p4_03_raw\\',\\'p4_03\\',min_bound=0,max_bound=1)\\n'"
      ]
     },
     "execution_count": 2,
     "metadata": {},
     "output_type": "execute_result"
    }
   ],
   "source": [
    "#невірний код розрахунку показників по генпланам, на видалення\n",
    "\n",
    "'''\n",
    "df_P04_005 = pd.read_excel(f\"{INPUTS_PATH}/P4/P04_005.xlsx\", dtype={\"КОАТУУ населеного пункту\": str})\n",
    "settlement = pd.read_excel(f\"{INPUTS_PATH}/P99/settlements.xlsx\")\n",
    "\n",
    "urban = [\"місто\", \"селище міського типу\"]\n",
    "rural = [\"село\",  \"селище\"]\n",
    "\n",
    "df_P04_005[\"param_type\"] = np.select(\n",
    "    condlist=[\n",
    "        df_P04_005[\"Тип населеного пункту (село, селище, селище міського типу, місто)\"].isin(urban),\n",
    "        df_P04_005[\"Тип населеного пункту (село, селище, селище міського типу, місто)\"].isin(rural)\n",
    "    ],\n",
    "    choicelist=[\"p4_02_raw\", \"p4_03_raw\"],\n",
    "    default= np.nan\n",
    ")\n",
    "\n",
    "df_P04_005_fin = df_P04_005.loc[\n",
    "    (df_P04_005[\"Дата прийняття рішення про затвердження Генерального плану населеного пункту\"] <= \"2020-06-30\") &\n",
    "    (df_P04_005[\"Дата прийняття рішення про затвердження Генерального плану населеного пункту\"] >= \"2020-04-01\")\n",
    "]\n",
    "\n",
    "df_P04_005_fin = df_P04_005.groupby([\"region\", \"param_type\"])[\"Населений пункт\"].size().reset_index()\n",
    "df_P04_005_fin = df_P04_005_fin.pivot(index='region', columns='param_type').fillna(0).reset_index()\n",
    "df_P04_005_fin.columns = df_P04_005_fin.columns.droplevel()\n",
    "df_P04_005_fin.columns = [\"region\", \"p4_02_raw\", \"p4_03_raw\"]\n",
    "\n",
    "df_P04_005_fin = pd.merge(\n",
    "    settlement.rename(columns={\"Кількість населених пунктів\": \"total\"}),\n",
    "    df_P04_005_fin,\n",
    "    how=\"outer\"\n",
    ")\n",
    "\n",
    "df_P04_005_fin[\"p4_02_raw\"] = df_P04_005_fin[\"p4_02_raw\"] / df_P04_005_fin[\"total\"]\n",
    "df_P04_005_fin[\"p4_03_raw\"] = df_P04_005_fin[\"p4_03_raw\"] / df_P04_005_fin[\"total\"]\n",
    "\n",
    "normalize_parameter(df_P04_005_fin,'p4_02_raw','p4_02',min_bound=0,max_bound=1)\n",
    "normalize_parameter(df_P04_005_fin,'p4_03_raw','p4_03',min_bound=0,max_bound=1)\n",
    "'''"
   ]
  },
  {
   "cell_type": "markdown",
   "metadata": {},
   "source": [
    "### **p4_02**\n",
    "#### наявність генеральних планів у містах та селищах міського типу\n",
    "### **p4_03**\n",
    "#### наявність генеральних планів у селах"
   ]
  },
  {
   "cell_type": "code",
   "execution_count": 3,
   "metadata": {},
   "outputs": [],
   "source": [
    "# _dict_ids = population.to_dict()[\"p4_region_id\"]\n",
    "# _dict_ids_reversed = {v:k for k, v in _dict_ids.items()}\n",
    "\n",
    "# # датасет ОДА\n",
    "# df_P04_005 = pd.read_excel(f\"{INPUTS_PATH}/P4/P04_005.xlsx\", dtype={\"КОАТУУ населеного пункту\": str})\n",
    "# df_P04_005 = df_P04_005.loc[df_P04_005[\"region\"].ne(\"26_kyiv\")].copy()\n",
    "\n",
    "# urban = [\"місто\", \"смт\"]\n",
    "# rural = [\"село\",  \"селище\"]\n",
    "\n",
    "# # додаю так, щоб мати змогу по-іншому визначити urban / rural, не змінюючи оригінальні дані\n",
    "# df_P04_005[\"param_type\"] = np.select(\n",
    "#     condlist=[\n",
    "#         df_P04_005[\"Тип населеного пункту (село, селище, селище міського типу, місто)\"].isin(urban),\n",
    "#         df_P04_005[\"Тип населеного пункту (село, селище, селище міського типу, місто)\"].isin(rural)\n",
    "#     ],\n",
    "#     choicelist=[\"p4_02_raw\", \"p4_03_raw\"],\n",
    "#     default= np.nan\n",
    "# )\n",
    "\n",
    "# df_P04_005[\"plan\"] = np.where(df_P04_005[\"Наявність затвердженого Генерального плану населеного пункту (так/ні)\"].eq(\"так\"), 1,0)\n",
    "# df_P04_005_fin = df_P04_005.groupby([\"region_id\", \"param_type\"], as_index=False)[\"plan\"].mean()\n",
    "# df_P04_005_fin = df_P04_005_fin.pivot(index='region_id', columns='param_type', values='plan').reset_index()\n",
    "# df_P04_005_fin[\"region\"] = df_P04_005_fin[\"region_id\"].map(_dict_ids_reversed)\n",
    "# df_P04_005_fin = df_P04_005_fin.drop(\"region_id\", 1)\n",
    "\n",
    "# normalize_parameter(df_P04_005_fin,'p4_02_raw','p4_02',min_bound=0,max_bound=1)\n",
    "# normalize_parameter(df_P04_005_fin,'p4_03_raw','p4_03',min_bound=0,max_bound=1)"
   ]
  },
  {
   "cell_type": "markdown",
   "metadata": {},
   "source": [
    "### **p4_05**\n",
    "#### протяжність автомобільних доріг загального користування місцевого значення, на яких проведено капітальний ремонт, реконструкцію, відносно загальної довжини доріг"
   ]
  },
  {
   "cell_type": "code",
   "execution_count": 4,
   "metadata": {},
   "outputs": [],
   "source": [
    "df_P04_006 = pd.read_excel(f\"{INPUTS_PATH}/P4/P04_006.xlsx\")\n",
    "roads = pd.read_csv(f\"{INPUTS_PATH}/P99/all_roads.csv\").rename(columns={\"Область\": \"region\"})"
   ]
  },
  {
   "cell_type": "code",
   "execution_count": 5,
   "metadata": {},
   "outputs": [
    {
     "name": "stdout",
     "output_type": "stream",
     "text": [
      "Емпіричні границі: (0, 0.020276599459073542)\n",
      "Коефіцієнти нормалізації: (49.31793430246567, -0.0)\n",
      "Параметр p4_05 нормалізовано і додано до таблиці\n",
      "\n"
     ]
    }
   ],
   "source": [
    "df_P04_006 = df_P04_006.loc[pd.to_datetime(df_P04_006[\"Дата початку ремонтних робіт\"]) < \"2020-07-01\"]\n",
    "\n",
    "df_P04_006_fin = pd.concat([\n",
    "    roads.groupby(\"region\")[\"Довжина (протяжність) дороги (км)\"].sum().rename('roads_all'),\n",
    "    df_P04_006.groupby('region')['Довжина (протяжність) відремонтованої ділянки (км)'].sum().rename('roads_repaired'),\n",
    "    df_P04_006.groupby('region')['Загальна вартість ремонту (грн)'].sum().rename('price')\n",
    "], axis=1)\n",
    "\n",
    "df_P04_006_fin['price_km'] = df_P04_006_fin['price']/df_P04_006_fin['roads_repaired']\n",
    "df_P04_006_fin['p4_05_raw'] = df_P04_006_fin['roads_repaired']/df_P04_006_fin['roads_all']\n",
    "df_P04_006_fin = df_P04_006_fin.reset_index().rename(columns={\"index\": \"region\"})\n",
    "normalize_parameter(df_P04_006_fin,'p4_05_raw','p4_05',min_bound=0)"
   ]
  },
  {
   "cell_type": "markdown",
   "metadata": {},
   "source": [
    "### **p4_06**\n",
    "#### рівень використання коштів дорожнього фонду, передбачених для будівництва, реконструкції, ремонту та утримання автомобільних доріг загального користування місцевого значення, вулиць і доріг комунальної власності у населених пунктах"
   ]
  },
  {
   "cell_type": "code",
   "execution_count": 6,
   "metadata": {},
   "outputs": [
    {
     "name": "stdout",
     "output_type": "stream",
     "text": [
      "Емпіричні границі: (0.022008531339642, 0.6319770035765523)\n",
      "Коефіцієнти нормалізації: (1.6394289959491584, -0.03608142443646487)\n",
      "Параметр p4_06 нормалізовано і додано до таблиці\n",
      "\n"
     ]
    }
   ],
   "source": [
    "df_KMU[\"p4_06_raw\"] = df_KMU[\"Дор фонд_видатки\"] / df_KMU[\"Дор фонд_передбачено\"]\n",
    "normalize_parameter(df_KMU, \"p4_06_raw\", \"p4_06\")"
   ]
  },
  {
   "cell_type": "markdown",
   "metadata": {},
   "source": [
    "### **p4_07**\n",
    "#### середній рівень будівельної готовності об'єктів Великого будівництва (за касовими видатками)\n",
    "### **p4_08**\n",
    "#### середній рівень освоєння коштів, виділених на об'єкти Великого будівництва з усіх джерел"
   ]
  },
  {
   "cell_type": "code",
   "execution_count": 7,
   "metadata": {},
   "outputs": [
    {
     "data": {
      "text/plain": [
       "'\\nсюди додати розрахунки за параметрами p4_07, p4_08\\n'"
      ]
     },
     "execution_count": 7,
     "metadata": {},
     "output_type": "execute_result"
    }
   ],
   "source": [
    "'''\n",
    "сюди додати розрахунки за параметрами p4_07, p4_08\n",
    "'''"
   ]
  },
  {
   "cell_type": "markdown",
   "metadata": {},
   "source": [
    "### **Група 1:** p4_02-p4_03, генплани\n",
    "### **Група 2:** p4_05-p4_06, дороги\n",
    "### **Група 3:** p4_07-p4_08, велике будівництво"
   ]
  },
  {
   "cell_type": "code",
   "execution_count": 8,
   "metadata": {},
   "outputs": [
    {
     "name": "stdout",
     "output_type": "stream",
     "text": [
      "Дані за галузевим параметром P4 збережено\n",
      "               region     p4_05     p4_06        P4\n",
      "0           Волинська  0.526775  0.128628  1.092339\n",
      "1           Вінницька  0.318542  0.480516  1.331762\n",
      "2    Дніпропетровська  0.948457  0.627844  2.627169\n",
      "3            Донецька  0.276283  0.895208  1.952484\n",
      "4         Житомирська  0.377780  0.289077  1.111428\n",
      "5        Закарпатська  0.422385  0.102066  0.874085\n",
      "6          Запорізька  0.362038  0.317821  1.133098\n",
      "7            Київська  0.434851  0.531625  1.610794\n",
      "8   Івано-Франківська  1.000000  0.200172  2.000287\n",
      "9      Кіровоградська  0.204456  0.299042  0.839162\n",
      "10          Луганська  0.653571  0.338171  1.652903\n",
      "11          Львівська  0.341205  1.000000  2.235342\n",
      "12       Миколаївська  0.133177  0.161522  0.491164\n",
      "13            Одеська  0.410382  0.219689  1.050118\n",
      "14         Полтавська  0.113465  0.670512  1.306629\n",
      "15         Рівненська  0.643112  0.380143  1.705425\n",
      "16            Сумська  0.059658  0.129459  0.315195\n",
      "17      Тернопільська  0.025224  0.129000  0.257039\n",
      "18         Харківська  0.511469  0.628538  1.900012\n",
      "19         Херсонська  0.344580  0.353283  1.163106\n",
      "20        Хмельницька  0.134165  0.234963  0.615212\n",
      "21          Черкаська  0.389931  0.736551  1.877469\n",
      "22        Чернівецька  0.000000  0.167588  0.279314\n",
      "23       Чернігівська  0.012890  0.000000  0.021483\n"
     ]
    }
   ],
   "source": [
    "dict_weights = {\n",
    "    'p4_02':1,\n",
    "    'p4_03':1,\n",
    "    'p4_05':1,\n",
    "    'p4_06':1,\n",
    "    'p4_07':1,\n",
    "    'p4_08':1\n",
    "}\n",
    "\n",
    "sources = [\n",
    "#     df_P04_005_fin, \n",
    "    df_P04_006_fin,\n",
    "    df_KMU\n",
    "]\n",
    "save_data(sources,regions,dict_weights,'P4')"
   ]
  }
 ],
 "metadata": {
  "kernelspec": {
   "display_name": "Python 3",
   "language": "python",
   "name": "python3"
  },
  "language_info": {
   "codemirror_mode": {
    "name": "ipython",
    "version": 3
   },
   "file_extension": ".py",
   "mimetype": "text/x-python",
   "name": "python",
   "nbconvert_exporter": "python",
   "pygments_lexer": "ipython3",
   "version": "3.7.4"
  }
 },
 "nbformat": 4,
 "nbformat_minor": 4
}
