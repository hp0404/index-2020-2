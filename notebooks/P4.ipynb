{
 "cells": [
  {
   "cell_type": "code",
   "execution_count": 1,
   "metadata": {},
   "outputs": [],
   "source": [
    "import numpy as np\n",
    "import pandas as pd\n",
    "from custom_func import *"
   ]
  },
  {
   "cell_type": "code",
   "execution_count": 2,
   "metadata": {},
   "outputs": [],
   "source": [
    "df_P04_005 = pd.read_excel(f\"{INPUTS_PATH}/P4/P04_005.xlsx\", dtype={\"КОАТУУ населеного пункту\": str})\n",
    "settlement = pd.read_excel(f\"{INPUTS_PATH}/P99/settlements.xlsx\")"
   ]
  },
  {
   "cell_type": "code",
   "execution_count": 3,
   "metadata": {},
   "outputs": [],
   "source": [
    "urban = [\"місто\", \"селище міського типу\"]\n",
    "rural = [\"село\",  \"селище\"]"
   ]
  },
  {
   "cell_type": "code",
   "execution_count": 4,
   "metadata": {},
   "outputs": [],
   "source": [
    "df_P04_005[\"param_type\"] = np.select(\n",
    "    condlist=[\n",
    "        df_P04_005[\"Тип населеного пункту (село, селище, селище міського типу, місто)\"].isin(urban),\n",
    "        df_P04_005[\"Тип населеного пункту (село, селище, селище міського типу, місто)\"].isin(rural)\n",
    "    ],\n",
    "    choicelist=[\"p4_02_raw\", \"p4_03_raw\"],\n",
    "    default= np.nan\n",
    ")"
   ]
  },
  {
   "cell_type": "code",
   "execution_count": 6,
   "metadata": {},
   "outputs": [],
   "source": [
    "df_P04_005_fin = df_P04_005.loc[\n",
    "    (df_P04_005[\"Дата прийняття рішення про затвердження Генерального плану населеного пункту\"] <= \"2020-06-30\") &\n",
    "    (df_P04_005[\"Дата прийняття рішення про затвердження Генерального плану населеного пункту\"] >= \"2020-04-01\")\n",
    "]"
   ]
  },
  {
   "cell_type": "code",
   "execution_count": 7,
   "metadata": {},
   "outputs": [],
   "source": [
    "df_P04_005_fin = df_P04_005.groupby([\"region\", \"param_type\"])[\"Населений пункт\"].size().reset_index()\n",
    "df_P04_005_fin = df_P04_005_fin.pivot(index='region', columns='param_type').fillna(0).reset_index()\n",
    "df_P04_005_fin.columns = df_P04_005_fin.columns.droplevel()\n",
    "df_P04_005_fin.columns = [\"region\", \"p4_02_raw\", \"p4_03_raw\"]"
   ]
  },
  {
   "cell_type": "code",
   "execution_count": 9,
   "metadata": {},
   "outputs": [],
   "source": [
    "df_P04_005_fin = pd.merge(\n",
    "    settlement.rename(columns={\"Кількість населених пунктів\": \"total\"}),\n",
    "    df_P04_005_fin,\n",
    "    how=\"outer\"\n",
    ")\n",
    "\n",
    "df_P04_005_fin[\"p4_02_raw\"] = df_P04_005_fin[\"p4_02_raw\"] / df_P04_005_fin[\"total\"]\n",
    "df_P04_005_fin[\"p4_03_raw\"] = df_P04_005_fin[\"p4_03_raw\"] / df_P04_005_fin[\"total\"]"
   ]
  },
  {
   "cell_type": "code",
   "execution_count": 10,
   "metadata": {},
   "outputs": [
    {
     "name": "stdout",
     "output_type": "stream",
     "text": [
      "Емпіричні границі: (0, 1)\n",
      "Коефіцієнти нормалізації: (1.0, -0.0)\n",
      "Параметр p4_02 нормалізовано і додано до таблиці\n",
      "\n",
      "Емпіричні границі: (0, 1)\n",
      "Коефіцієнти нормалізації: (1.0, -0.0)\n",
      "Параметр p4_03 нормалізовано і додано до таблиці\n",
      "\n"
     ]
    }
   ],
   "source": [
    "normalize_parameter(df_P04_005_fin,'p4_02_raw','p4_02',min_bound=0,max_bound=1)\n",
    "normalize_parameter(df_P04_005_fin,'p4_03_raw','p4_03',min_bound=0,max_bound=1)"
   ]
  },
  {
   "cell_type": "code",
   "execution_count": 11,
   "metadata": {},
   "outputs": [],
   "source": [
    "df_P04_006 = pd.read_excel(f\"{INPUTS_PATH}/P4/P04_006.xlsx\")\n",
    "roads = pd.read_csv(f\"{INPUTS_PATH}/P99/all_roads.csv\").rename(columns={\"Область\": \"region\"})"
   ]
  },
  {
   "cell_type": "code",
   "execution_count": 12,
   "metadata": {},
   "outputs": [
    {
     "name": "stdout",
     "output_type": "stream",
     "text": [
      "Емпіричні границі: (0, 0.020276599459073542)\n",
      "Коефіцієнти нормалізації: (49.31793430246567, -0.0)\n",
      "Параметр p4_05 нормалізовано і додано до таблиці\n",
      "\n"
     ]
    }
   ],
   "source": [
    "df_P04_006 = df_P04_006.loc[pd.to_datetime(df_P04_006[\"Дата початку ремонтних робіт\"]) < \"2020-07-01\"]\n",
    "\n",
    "df_P04_006_fin = pd.concat([\n",
    "    roads.groupby(\"region\")[\"Довжина (протяжність) дороги (км)\"].sum().rename('roads_all'),\n",
    "    df_P04_006.groupby('region')['Довжина (протяжність) відремонтованої ділянки (км)'].sum().rename('roads_repaired'),\n",
    "    df_P04_006.groupby('region')['Загальна вартість ремонту (грн)'].sum().rename('price')\n",
    "], axis=1)\n",
    "\n",
    "df_P04_006_fin['price_km'] = df_P04_006_fin['price']/df_P04_006_fin['roads_repaired']\n",
    "df_P04_006_fin['p4_05_raw'] = df_P04_006_fin['roads_repaired']/df_P04_006_fin['roads_all']\n",
    "df_P04_006_fin = df_P04_006_fin.reset_index().rename(columns={\"index\": \"region\"})\n",
    "normalize_parameter(df_P04_006_fin,'p4_05_raw','p4_05',min_bound=0)"
   ]
  },
  {
   "cell_type": "code",
   "execution_count": 13,
   "metadata": {},
   "outputs": [
    {
     "name": "stdout",
     "output_type": "stream",
     "text": [
      "Дані за галузевим параметром P4 збережено\n",
      "               region     p4_02     p4_03     p4_05        P4\n",
      "0           Волинська  0.000000  0.002778  0.526775  1.059105\n",
      "1           Вінницька  0.000665  0.008644  0.318542  0.655701\n",
      "2    Дніпропетровська  0.000000  0.000666  0.948457  1.898247\n",
      "3            Донецька  0.002356  0.000000  0.276283  0.557277\n",
      "4         Житомирська  0.000601  0.002405  0.377780  0.761574\n",
      "5        Закарпатська  0.000000  0.006568  0.422385  0.857906\n",
      "6          Запорізька  0.001054  0.028451  0.362038  0.783085\n",
      "7            Київська  0.001693  0.011854  0.434851  0.896798\n",
      "8   Івано-Франківська  0.001362  0.004087  1.000000  2.010899\n",
      "9      Кіровоградська  0.002058  0.012346  0.204456  0.437718\n",
      "10          Луганська  0.000000  0.001842  0.653571  1.310825\n",
      "11          Львівська  0.000000  0.005176  0.341205  0.692762\n",
      "12       Миколаївська  0.001098  0.010977  0.133177  0.290503\n",
      "13            Одеська  0.003401  0.005952  0.410382  0.839471\n",
      "14         Полтавська  0.000000  0.018991  0.113465  0.264912\n",
      "15         Рівненська  0.000000  0.005848  0.643112  1.297920\n",
      "16            Сумська  0.000000  0.004032  0.059658  0.127381\n",
      "17      Тернопільська  0.000959  0.001918  0.025224  0.056200\n",
      "18         Харківська  0.001143  0.000571  0.511469  1.026367\n",
      "19         Херсонська  0.000000  0.020000  0.344580  0.729161\n",
      "20        Хмельницька  0.001376  0.008947  0.134165  0.288976\n",
      "21          Черкаська  0.000000  0.001195  0.389931  0.782251\n",
      "22        Чернівецька  0.000000  0.007194  0.000000  0.014388\n",
      "23       Чернігівська  0.002653  0.019894  0.012890  0.070872\n"
     ]
    }
   ],
   "source": [
    "#Група 1: p4_01, сміття\n",
    "#Група 2: p4_02-p4_03, генплани\n",
    "#Група 3: p4_05-p4_06, дороги\n",
    "\n",
    "dict_weights = {\n",
    "    'p4_01':1,\n",
    "    'p4_02':1,\n",
    "    'p4_03':1,\n",
    "    'p4_05':1,\n",
    "    'p4_06':1\n",
    "}\n",
    "\n",
    "sources = [df_P04_005_fin, df_P04_006_fin]\n",
    "save_data(sources,regions,dict_weights,'P4')"
   ]
  }
 ],
 "metadata": {
  "kernelspec": {
   "display_name": "Python 3",
   "language": "python",
   "name": "python3"
  },
  "language_info": {
   "codemirror_mode": {
    "name": "ipython",
    "version": 3
   },
   "file_extension": ".py",
   "mimetype": "text/x-python",
   "name": "python",
   "nbconvert_exporter": "python",
   "pygments_lexer": "ipython3",
   "version": "3.7.4"
  }
 },
 "nbformat": 4,
 "nbformat_minor": 4
}
