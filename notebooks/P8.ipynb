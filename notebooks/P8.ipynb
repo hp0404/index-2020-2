{
 "cells": [
  {
   "cell_type": "code",
   "execution_count": 1,
   "metadata": {},
   "outputs": [],
   "source": [
    "import pandas as pd\n",
    "from custom_func import *"
   ]
  },
  {
   "cell_type": "code",
   "execution_count": 2,
   "metadata": {},
   "outputs": [],
   "source": [
    "df_P08_006 = pd.read_excel(f\"{INPUTS_PATH}/P8/P08_006.xlsx\")"
   ]
  },
  {
   "cell_type": "code",
   "execution_count": 5,
   "metadata": {},
   "outputs": [],
   "source": [
    "df_P08_006[\"region\"] = df_P08_006[\"region\"].str.strip()\n",
    "df_P08_006_fin = (\n",
    "    df_P08_006\n",
    "    .groupby(\"region\")\n",
    "    .agg(p8_03_raw = (\"Код події\", \"size\"))\n",
    "    .reset_index()\n",
    ")"
   ]
  },
  {
   "cell_type": "code",
   "execution_count": 6,
   "metadata": {},
   "outputs": [
    {
     "name": "stdout",
     "output_type": "stream",
     "text": [
      "Емпіричні границі: (25, 1)\n",
      "Коефіцієнти нормалізації: (-0.041666666666666664, 1.0416666666666665)\n",
      "Параметр p8_03 нормалізовано і додано до таблиці\n",
      "\n"
     ]
    }
   ],
   "source": [
    "normalize_parameter(df_P08_006_fin, \"p8_03_raw\", \"p8_03\", reverse=True)"
   ]
  },
  {
   "cell_type": "code",
   "execution_count": 7,
   "metadata": {},
   "outputs": [
    {
     "name": "stdout",
     "output_type": "stream",
     "text": [
      "Дані за галузевим параметром P8 збережено\n",
      "               region     p8_03         P8\n",
      "0           Волинська  0.916667   9.166667\n",
      "1           Вінницька  0.916667   9.166667\n",
      "2    Дніпропетровська  0.500000   5.000000\n",
      "3            Донецька  0.833333   8.333333\n",
      "4         Житомирська  1.000000  10.000000\n",
      "5        Закарпатська  0.208333   2.083333\n",
      "6          Запорізька  0.875000   8.750000\n",
      "7            Київська  0.500000   5.000000\n",
      "8   Івано-Франківська  0.791667   7.916667\n",
      "9      Кіровоградська  0.000000   0.000000\n",
      "10          Луганська  0.958333   9.583333\n",
      "11          Львівська  0.708333   7.083333\n",
      "12       Миколаївська  0.958333   9.583333\n",
      "13            Одеська  0.541667   5.416667\n",
      "14         Полтавська  0.666667   6.666667\n",
      "15         Рівненська  0.916667   9.166667\n",
      "16            Сумська  0.000000   0.000000\n",
      "17      Тернопільська  0.916667   9.166667\n",
      "18         Харківська  0.750000   7.500000\n",
      "19         Херсонська  1.000000  10.000000\n",
      "20        Хмельницька  0.833333   8.333333\n",
      "21          Черкаська  0.916667   9.166667\n",
      "22        Чернівецька  0.750000   7.500000\n",
      "23       Чернігівська  1.000000  10.000000\n"
     ]
    }
   ],
   "source": [
    "dict_weights = {\n",
    "    'p8_03':1\n",
    "}\n",
    "\n",
    "sources = [df_P08_006_fin]\n",
    "save_data(sources,regions,dict_weights,'P8')"
   ]
  }
 ],
 "metadata": {
  "kernelspec": {
   "display_name": "Python 3",
   "language": "python",
   "name": "python3"
  },
  "language_info": {
   "codemirror_mode": {
    "name": "ipython",
    "version": 3
   },
   "file_extension": ".py",
   "mimetype": "text/x-python",
   "name": "python",
   "nbconvert_exporter": "python",
   "pygments_lexer": "ipython3",
   "version": "3.7.4"
  }
 },
 "nbformat": 4,
 "nbformat_minor": 4
}
