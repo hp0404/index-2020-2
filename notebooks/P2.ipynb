{
 "cells": [
  {
   "cell_type": "markdown",
   "metadata": {},
   "source": [
    "# Порівняння bipro та biz (createDate, dateModified)"
   ]
  },
  {
   "cell_type": "code",
   "execution_count": 1,
   "metadata": {},
   "outputs": [],
   "source": [
    "import pandas as pd\n",
    "from custom_func import *"
   ]
  },
  {
   "cell_type": "code",
   "execution_count": 2,
   "metadata": {},
   "outputs": [],
   "source": [
    "df_P02_006 = pd.read_excel(f\"{INPUTS_PATH}/P2/P02_006.xlsx\")\n",
    "df_P02_007 = pd.read_excel(f\"{INPUTS_PATH}/P2/P02_007.xlsx\")\n",
    "df_P02_007_dm = pd.read_excel(f\"{INPUTS_PATH}/P2/P02_007_dateModified.xlsx\")"
   ]
  },
  {
   "cell_type": "code",
   "execution_count": 4,
   "metadata": {},
   "outputs": [],
   "source": [
    "df_P02_007_dm[\"dateModified\"] = pd.to_datetime(df_P02_007_dm[\"dateModified\"], format=\"%d.%m.%Y\")\n",
    "df_P02_007_dm = df_P02_007_dm.loc[df_P02_007_dm[\"dateModified\"].between(\"2020-04-01\", \"2020-06-30\")].copy()"
   ]
  },
  {
   "cell_type": "code",
   "execution_count": 5,
   "metadata": {},
   "outputs": [],
   "source": [
    "colnames = {\n",
    "    \"Область\": \"region\",\n",
    "    \"Податки на одну особу (p2_01)\":'p2_01_raw',\n",
    "    \"Дохід без міжбюдж. трансфертів (p2_02)\":'p2_02_raw',\n",
    "    \"Дохід без міжбюдж. трансфертів порівняно з минулим періодом (p2_03)\": \"p2_03_raw\",\n",
    "    \"Капітальні видатки (p2_04)\":'p2_04_raw',\n",
    "    \"Плата за землю (p2_05)\":'p2_05_raw'\n",
    "}\n",
    "\n",
    "df_P02_006 = pd.read_excel(f\"{INPUTS_PATH}/P2/P02_006.xlsx\").rename(columns=colnames)"
   ]
  },
  {
   "cell_type": "code",
   "execution_count": 6,
   "metadata": {},
   "outputs": [
    {
     "name": "stdout",
     "output_type": "stream",
     "text": [
      "Емпіричні границі: (187.8519975209227, 1053.401566199802)\n",
      "Коефіцієнти нормалізації: (0.0011553353339732323, -0.21703205029337405)\n",
      "Параметр p2_01 нормалізовано і додано до таблиці\n",
      "\n",
      "Емпіричні границі: (489036160.8999999, 4323495164.98)\n",
      "Коефіцієнти нормалізації: (2.607929825135605e-10, -0.12753719895809246)\n",
      "Параметр p2_02 нормалізовано і додано до таблиці\n",
      "\n",
      "Емпіричні границі: (0.5539636554771445, 1.046366956816354)\n",
      "Коефіцієнти нормалізації: (2.030855595972364, -1.1250201896910659)\n",
      "Параметр p2_03 нормалізовано і додано до таблиці\n",
      "\n",
      "Емпіричні границі: (149620804.27, 1420569757.0)\n",
      "Коефіцієнти нормалізації: (7.868136622261647e-10, -0.11772369295290289)\n",
      "Параметр p2_04 нормалізовано і додано до таблиці\n",
      "\n",
      "Емпіричні границі: (28855748.39, 452003346.2500001)\n",
      "Коефіцієнти нормалізації: (2.36324158534123e-09, -0.06819310457139124)\n",
      "Параметр p2_05 нормалізовано і додано до таблиці\n",
      "\n"
     ]
    }
   ],
   "source": [
    "normalize_parameter(df_P02_006, \"p2_01_raw\", \"p2_01\")\n",
    "normalize_parameter(df_P02_006, \"p2_02_raw\", \"p2_02\")\n",
    "normalize_parameter(df_P02_006, \"p2_03_raw\", \"p2_03\")\n",
    "normalize_parameter(df_P02_006, \"p2_04_raw\", \"p2_04\")\n",
    "normalize_parameter(df_P02_006, \"p2_05_raw\", \"p2_05\")\n",
    "\n",
    "df_P02_006_fin = df_P02_006.loc[:, df_P02_006.columns.str.contains(\"region|^p\")]"
   ]
  },
  {
   "cell_type": "markdown",
   "metadata": {},
   "source": [
    "---"
   ]
  },
  {
   "cell_type": "markdown",
   "metadata": {},
   "source": [
    "# Розрахунки на даних, отриманих з BizTenders"
   ]
  },
  {
   "cell_type": "code",
   "execution_count": 7,
   "metadata": {},
   "outputs": [],
   "source": [
    "# createDate\n",
    "df_P02_007_fin = df_P02_007.loc[df_P02_007[\"status\"].eq(\"complete\")].copy()\n",
    "\n",
    "df_P02_007_fin[\"Чи відкриті торги?\"] = df_P02_007_fin[\"procurementMethod\"].eq(\"open\").astype(int)\n",
    "open_procur = df_P02_007_fin.loc[df_P02_007_fin['Чи відкриті торги?']==1].groupby('region')[\"tenderValue\"].sum().rename('open')\n",
    "all_procur = df_P02_007_fin.groupby('region')[\"tenderValue\"].sum().rename('all')\n",
    "df_P02_007_fin = pd.concat([open_procur, all_procur], axis=1).reset_index()\n",
    "df_P02_007_fin[\"p2_06_raw\"] = df_P02_007_fin[\"open\"] / df_P02_007_fin[\"all\"]\n",
    "\n",
    "df_P02_007_fin_biz = df_P02_007_fin.copy()"
   ]
  },
  {
   "cell_type": "code",
   "execution_count": 9,
   "metadata": {},
   "outputs": [],
   "source": [
    "# # dateModified\n",
    "# df_P02_007_fin = df_P02_007_dm.loc[df_P02_007_dm[\"status\"].eq(\"complete\")].copy()\n",
    "# df_P02_007_fin[\"Чи відкриті торги?\"] = df_P02_007_fin[\"procurementMethod\"].eq(\"open\").astype(int)\n",
    "# open_procur = df_P02_007_fin.loc[df_P02_007_fin['Чи відкриті торги?']==1].groupby('region')[\"tenderValue\"].sum().rename('open')\n",
    "# all_procur = df_P02_007_fin.groupby('region')[\"tenderValue\"].sum().rename('all')\n",
    "# df_P02_007_fin = pd.concat([open_procur, all_procur], axis=1).reset_index()\n",
    "# df_P02_007_fin[\"p2_06_raw\"] = df_P02_007_fin[\"open\"] / df_P02_007_fin[\"all\"]\n",
    "# df_P02_007_fin_biz_datemodified = df_P02_007_fin.copy()"
   ]
  },
  {
   "cell_type": "markdown",
   "metadata": {},
   "source": [
    "---"
   ]
  },
  {
   "cell_type": "markdown",
   "metadata": {},
   "source": [
    "# Розрахунки на даних bi.prozorro"
   ]
  },
  {
   "cell_type": "code",
   "execution_count": 10,
   "metadata": {},
   "outputs": [],
   "source": [
    "# df = pd.read_excel(\"./../v0.5/inputs/P2/P02_007_prozorro.xlsx\")\n",
    "\n",
    "# open_procedures = [\"Відкриті торги\", \"Відкриті торги із публікацією англ. мовою\"]\n",
    "# df[\"Чи відкриті торги?\"] = df[\"Процедура закупівлі\"].isin(open_procedures).astype(int)\n",
    "\n",
    "# df = df.loc[df[\"Статуси процедур\"].eq(\"Завершена закупівля\")].copy()\n",
    "# open_procur = df.loc[df['Чи відкриті торги?']==1].groupby('region')[\"Очікувана вартість\"].sum().rename('open')\n",
    "# all_procur = df.groupby('region')[\"Очікувана вартість\"].sum().rename('all')\n",
    "# df_P02_007_fin = pd.concat([open_procur, all_procur], axis=1).reset_index()\n",
    "# df_P02_007_fin[\"p2_06_raw\"] = df_P02_007_fin[\"open\"] / df_P02_007_fin[\"all\"]\n",
    "\n",
    "# # normalize_parameter(df_P02_007_fin, \"p2_06_raw\", \"p2_06\", min_bound=0)\n",
    "# df_P02_007_fin_bipro = df_P02_007_fin.copy()"
   ]
  },
  {
   "cell_type": "markdown",
   "metadata": {},
   "source": [
    "---"
   ]
  },
  {
   "cell_type": "markdown",
   "metadata": {},
   "source": [
    "# Розрахунки даних за OB"
   ]
  },
  {
   "cell_type": "code",
   "execution_count": null,
   "metadata": {},
   "outputs": [],
   "source": []
  },
  {
   "cell_type": "markdown",
   "metadata": {},
   "source": [
    "---"
   ]
  },
  {
   "cell_type": "code",
   "execution_count": 8,
   "metadata": {},
   "outputs": [
    {
     "name": "stdout",
     "output_type": "stream",
     "text": [
      "Емпіричні границі: (0, 0.877019055682932)\n",
      "Коефіцієнти нормалізації: (1.1402260800608295, -0.0)\n",
      "Параметр p2_06 нормалізовано і додано до таблиці\n",
      "\n"
     ]
    }
   ],
   "source": [
    "normalize_parameter(df_P02_007_fin_biz, \"p2_06_raw\", \"p2_06\", min_bound=0)"
   ]
  },
  {
   "cell_type": "code",
   "execution_count": 11,
   "metadata": {},
   "outputs": [
    {
     "name": "stdout",
     "output_type": "stream",
     "text": [
      "Дані за галузевим параметром P2 збережено\n",
      "               region     p2_01     p2_02     p2_03     p2_04     p2_05  \\\n",
      "0           Волинська  0.599943  0.160247  0.637031  0.073066  0.072148   \n",
      "1           Вінницька  0.874382  0.465336  0.919764  0.267598  0.302305   \n",
      "2    Дніпропетровська  0.717872  1.000000  0.081421  1.000000  1.000000   \n",
      "3            Донецька  0.221649  0.437363  0.204585  0.504806  0.216313   \n",
      "4         Житомирська  0.766951  0.294074  0.752153  0.076793  0.158528   \n",
      "5        Закарпатська  0.347174  0.115136  0.281686  0.120125  0.028436   \n",
      "6          Запорізька  0.699201  0.425825  0.276226  0.172996  0.329854   \n",
      "7            Київська  0.839828  0.575290  0.274995  0.726074  0.335364   \n",
      "8   Івано-Франківська  0.649869  0.285045  0.972227  0.274086  0.201656   \n",
      "9      Кіровоградська  0.475612  0.105768  0.156829  0.001454  0.163774   \n",
      "10          Луганська  0.000000  0.013674  0.196219  0.049713  0.001341   \n",
      "11          Львівська  0.501859  0.516078  0.102712  0.607763  0.194346   \n",
      "12       Миколаївська  0.571078  0.166045  0.243843  0.031004  0.120866   \n",
      "13            Одеська  0.530511  0.522149  0.075638  0.749913  0.432006   \n",
      "14         Полтавська  0.776309  0.377100  0.194113  0.245644  0.279073   \n",
      "15         Рівненська  0.482617  0.134137  0.348341  0.056902  0.064709   \n",
      "16            Сумська  1.000000  0.311543  1.000000  0.068724  0.277514   \n",
      "17      Тернопільська  0.540219  0.146196  0.774293  0.037219  0.054450   \n",
      "18         Харківська  0.570936  0.670899  0.135913  0.658602  0.462179   \n",
      "19         Херсонська  0.406814  0.099178  0.282551  0.090481  0.073030   \n",
      "20        Хмельницька  0.526475  0.180909  0.252265  0.000000  0.139280   \n",
      "21          Черкаська  0.486857  0.176269  0.193775  0.078106  0.159319   \n",
      "22        Чернівецька  0.190523  0.000000  0.000000  0.010192  0.000000   \n",
      "23       Чернігівська  0.558847  0.148488  0.295687  0.078581  0.174756   \n",
      "\n",
      "       p2_06        P2  \n",
      "0   0.526515  2.858723  \n",
      "1   0.995552  5.318265  \n",
      "2   0.625789  5.363765  \n",
      "3   0.888366  3.805631  \n",
      "4   1.000000  4.548499  \n",
      "5   0.706511  2.658833  \n",
      "6   0.833576  3.988041  \n",
      "7   0.651277  4.379743  \n",
      "8   0.591961  3.862785  \n",
      "9   0.785517  2.867232  \n",
      "10  0.897546  2.504812  \n",
      "11  0.645829  3.537332  \n",
      "12  0.372996  2.065324  \n",
      "13  0.763140  4.218066  \n",
      "14  0.945600  4.236240  \n",
      "15  0.470222  2.262261  \n",
      "16  0.424516  3.719072  \n",
      "17  0.537558  2.896272  \n",
      "18  0.537024  3.841091  \n",
      "19  0.922507  3.258321  \n",
      "20  0.784165  3.059342  \n",
      "21  0.863806  3.253841  \n",
      "22  0.539320  1.549017  \n",
      "23  0.637143  2.849214  \n"
     ]
    }
   ],
   "source": [
    "#Група 1: p2_01-p2_05, показники бюджету\n",
    "#Група 2: p2_06, публічні закупівлі\n",
    "#Група 3: p2_07-p2_10, аудиторські показники\n",
    "\n",
    "dict_weights = {\n",
    "    'p2_01':0.4,\n",
    "    'p2_02':0.4,\n",
    "    'p2_03':0.4,\n",
    "    'p2_04':0.4,\n",
    "    'p2_05':0.4,\n",
    "    'p2_06':1,\n",
    "    'p2_07':0.25,\n",
    "    'p2_08':0.25,\n",
    "    'p2_09':0.25,\n",
    "    'p2_10':0.25\n",
    "}\n",
    "\n",
    "sources = [df_P02_006_fin, df_P02_007_fin_biz]\n",
    "save_data(sources,regions,dict_weights,'P2')"
   ]
  },
  {
   "cell_type": "code",
   "execution_count": 12,
   "metadata": {},
   "outputs": [],
   "source": [
    "# from tabulate import tabulate\n",
    "\n",
    "# res = pd.merge(\n",
    "#     df_P02_007_fin_bipro.rename(columns={\"p2_06_raw\": \"p2_06_raw_biprozorro\"}).drop([\"open\", \"all\"], 1),\n",
    "#     df_P02_007_fin_biz.rename(columns={\"p2_06_raw\": \"p2_06_raw_bizTenders_createDate\"}).drop([\"open\", \"all\"], 1),\n",
    "#     on=\"region\"\n",
    "# ).merge(df_P02_007_fin_biz_datemodified.rename(columns={\"p2_06_raw\": \"p2_06_raw_bizTenders_dateModified\"}).drop([\"open\", \"all\"], 1),on=\"region\")\n",
    "\n",
    "# print(tabulate(res.round(2).set_index(\"region\"), tablefmt=\"pipe\", headers=\"keys\"))"
   ]
  }
 ],
 "metadata": {
  "kernelspec": {
   "display_name": "Python 3",
   "language": "python",
   "name": "python3"
  },
  "language_info": {
   "codemirror_mode": {
    "name": "ipython",
    "version": 3
   },
   "file_extension": ".py",
   "mimetype": "text/x-python",
   "name": "python",
   "nbconvert_exporter": "python",
   "pygments_lexer": "ipython3",
   "version": "3.7.4"
  }
 },
 "nbformat": 4,
 "nbformat_minor": 4
}
