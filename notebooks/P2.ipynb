{
 "cells": [
  {
   "cell_type": "code",
   "execution_count": 1,
   "metadata": {},
   "outputs": [],
   "source": [
    "import pandas as pd\n",
    "from custom_func import *"
   ]
  },
  {
   "cell_type": "code",
   "execution_count": 2,
   "metadata": {},
   "outputs": [],
   "source": [
    "df_P02_006 = pd.read_excel(f\"{INPUTS_PATH}/P2/P02_006.xlsx\")\n",
    "df_P02_007 = pd.read_excel(f\"{INPUTS_PATH}/P2/P02_007.xlsx\")"
   ]
  },
  {
   "cell_type": "code",
   "execution_count": 3,
   "metadata": {},
   "outputs": [],
   "source": [
    "colnames = {\n",
    "    \"Область\": \"region\",\n",
    "    \"Податки на одну особу (p2_01)\":'p2_01_raw',\n",
    "    \"Дохід без міжбюдж. трансфертів (p2_02)\":'p2_02_raw',\n",
    "    \"Дохід без міжбюдж. трансфертів порівняно з минулим періодом (p2_03)\": \"p2_03_raw\",\n",
    "    \"Капітальні видатки (p2_04)\":'p2_04_raw',\n",
    "    \"Плата за землю (p2_05)\":'p2_05_raw'\n",
    "}\n",
    "\n",
    "df_P02_006 = pd.read_excel(f\"{INPUTS_PATH}/P2/P02_006.xlsx\").rename(columns=colnames)"
   ]
  },
  {
   "cell_type": "code",
   "execution_count": 4,
   "metadata": {},
   "outputs": [
    {
     "name": "stdout",
     "output_type": "stream",
     "text": [
      "Емпіричні границі: (273.1319492833434, 1419.510256667407)\n",
      "Коефіцієнти нормалізації: (0.0008723123889895594, -0.23825638318872844)\n",
      "Параметр p2_01 нормалізовано і додано до таблиці\n",
      "\n",
      "Емпіричні границі: (689342314.3199999, 6955395883.62)\n",
      "Коефіцієнти нормалізації: (1.595900815306488e-10, -0.11001219614485493)\n",
      "Параметр p2_02 нормалізовано і додано до таблиці\n",
      "\n",
      "Емпіричні границі: (0.624658426803403, 1.168221845737069)\n",
      "Коефіцієнти нормалізації: (1.8397117340268172, -1.1491914375489523)\n",
      "Параметр p2_03 нормалізовано і додано до таблиці\n",
      "\n",
      "Емпіричні границі: (64811628, 1646013700)\n",
      "Коефіцієнти нормалізації: (6.324302362791237e-10, -0.04098883320967467)\n",
      "Параметр p2_04 нормалізовано і додано до таблиці\n",
      "\n",
      "Емпіричні границі: (60392282.4, 729124352.5)\n",
      "Коефіцієнти нормалізації: (1.4953671951914363e-09, -0.09030863794369715)\n",
      "Параметр p2_05 нормалізовано і додано до таблиці\n",
      "\n"
     ]
    }
   ],
   "source": [
    "normalize_parameter(df_P02_006, \"p2_01_raw\", \"p2_01\")\n",
    "normalize_parameter(df_P02_006, \"p2_02_raw\", \"p2_02\")\n",
    "normalize_parameter(df_P02_006, \"p2_03_raw\", \"p2_03\")\n",
    "normalize_parameter(df_P02_006, \"p2_04_raw\", \"p2_04\")\n",
    "normalize_parameter(df_P02_006, \"p2_05_raw\", \"p2_05\")\n",
    "\n",
    "df_P02_006_fin = df_P02_006.loc[:, df_P02_006.columns.str.contains(\"region|^p\")]"
   ]
  },
  {
   "cell_type": "markdown",
   "metadata": {},
   "source": [
    "---"
   ]
  },
  {
   "cell_type": "markdown",
   "metadata": {},
   "source": [
    "# Розрахунки на даних, отриманих з BizTenders"
   ]
  },
  {
   "cell_type": "code",
   "execution_count": 5,
   "metadata": {},
   "outputs": [],
   "source": [
    "df_P02_007_fin = df_P02_007.loc[df_P02_007[\"status\"].eq(\"complete\")].copy()"
   ]
  },
  {
   "cell_type": "code",
   "execution_count": 6,
   "metadata": {},
   "outputs": [],
   "source": [
    "df_P02_007_fin[\"Чи відкриті торги?\"] = df_P02_007_fin[\"procurementMethod\"].eq(\"open\").astype(int)\n",
    "open_procur = df_P02_007_fin.loc[df_P02_007_fin['Чи відкриті торги?']==1].groupby('region')[\"tenderValue\"].sum().rename('open')\n",
    "all_procur = df_P02_007_fin.groupby('region')[\"tenderValue\"].sum().rename('all')\n",
    "df_P02_007_fin = pd.concat([open_procur, all_procur], axis=1).reset_index()\n",
    "df_P02_007_fin[\"p2_06_raw\"] = df_P02_007_fin[\"open\"] / df_P02_007_fin[\"all\"]"
   ]
  },
  {
   "cell_type": "code",
   "execution_count": 7,
   "metadata": {},
   "outputs": [],
   "source": [
    "df_P02_007_fin_biz = df_P02_007_fin.copy()"
   ]
  },
  {
   "cell_type": "markdown",
   "metadata": {},
   "source": [
    "---"
   ]
  },
  {
   "cell_type": "markdown",
   "metadata": {},
   "source": [
    "# Розрахунки на даних bi.prozorro"
   ]
  },
  {
   "cell_type": "code",
   "execution_count": 8,
   "metadata": {},
   "outputs": [],
   "source": [
    "df = pd.read_excel(\"./../v0.5/inputs/P2/P02_007_prozorro.xlsx\")\n",
    "\n",
    "open_procedures = [\"Відкриті торги\", \"Відкриті торги із публікацією англ. мовою\"]\n",
    "df[\"Чи відкриті торги?\"] = df[\"Процедура закупівлі\"].isin(open_procedures).astype(int)\n",
    "\n",
    "df = df.loc[df[\"Статуси процедур\"].eq(\"Завершена закупівля\")].copy()\n",
    "open_procur = df.loc[df['Чи відкриті торги?']==1].groupby('region')[\"Очікувана вартість\"].sum().rename('open')\n",
    "all_procur = df.groupby('region')[\"Очікувана вартість\"].sum().rename('all')\n",
    "df_P02_007_fin = pd.concat([open_procur, all_procur], axis=1).reset_index()\n",
    "df_P02_007_fin[\"p2_06_raw\"] = df_P02_007_fin[\"open\"] / df_P02_007_fin[\"all\"]\n",
    "\n",
    "# normalize_parameter(df_P02_007_fin, \"p2_06_raw\", \"p2_06\", min_bound=0)"
   ]
  },
  {
   "cell_type": "code",
   "execution_count": 9,
   "metadata": {},
   "outputs": [],
   "source": [
    "df_P02_007_fin_bipro = df_P02_007_fin.copy()"
   ]
  },
  {
   "cell_type": "markdown",
   "metadata": {},
   "source": [
    "---"
   ]
  },
  {
   "cell_type": "code",
   "execution_count": 10,
   "metadata": {},
   "outputs": [
    {
     "data": {
      "text/html": [
       "<div>\n",
       "<style scoped>\n",
       "    .dataframe tbody tr th:only-of-type {\n",
       "        vertical-align: middle;\n",
       "    }\n",
       "\n",
       "    .dataframe tbody tr th {\n",
       "        vertical-align: top;\n",
       "    }\n",
       "\n",
       "    .dataframe thead th {\n",
       "        text-align: right;\n",
       "    }\n",
       "</style>\n",
       "<table border=\"1\" class=\"dataframe\">\n",
       "  <thead>\n",
       "    <tr style=\"text-align: right;\">\n",
       "      <th></th>\n",
       "      <th>region</th>\n",
       "      <th>p2_06_raw_biprozorro</th>\n",
       "      <th>p2_06_raw_bizTenders</th>\n",
       "    </tr>\n",
       "  </thead>\n",
       "  <tbody>\n",
       "    <tr>\n",
       "      <th>0</th>\n",
       "      <td>Івано-Франківська</td>\n",
       "      <td>0.585842</td>\n",
       "      <td>0.519161</td>\n",
       "    </tr>\n",
       "    <tr>\n",
       "      <th>1</th>\n",
       "      <td>Волинська</td>\n",
       "      <td>0.475664</td>\n",
       "      <td>0.461764</td>\n",
       "    </tr>\n",
       "    <tr>\n",
       "      <th>2</th>\n",
       "      <td>Вінницька</td>\n",
       "      <td>0.821416</td>\n",
       "      <td>0.873118</td>\n",
       "    </tr>\n",
       "    <tr>\n",
       "      <th>3</th>\n",
       "      <td>Дніпропетровська</td>\n",
       "      <td>0.473084</td>\n",
       "      <td>0.548829</td>\n",
       "    </tr>\n",
       "    <tr>\n",
       "      <th>4</th>\n",
       "      <td>Донецька</td>\n",
       "      <td>0.747781</td>\n",
       "      <td>0.779114</td>\n",
       "    </tr>\n",
       "    <tr>\n",
       "      <th>5</th>\n",
       "      <td>Житомирська</td>\n",
       "      <td>0.854600</td>\n",
       "      <td>0.877019</td>\n",
       "    </tr>\n",
       "    <tr>\n",
       "      <th>6</th>\n",
       "      <td>Закарпатська</td>\n",
       "      <td>0.734048</td>\n",
       "      <td>0.619623</td>\n",
       "    </tr>\n",
       "    <tr>\n",
       "      <th>7</th>\n",
       "      <td>Запорізька</td>\n",
       "      <td>0.673762</td>\n",
       "      <td>0.731062</td>\n",
       "    </tr>\n",
       "    <tr>\n",
       "      <th>8</th>\n",
       "      <td>Київська</td>\n",
       "      <td>0.663947</td>\n",
       "      <td>0.571182</td>\n",
       "    </tr>\n",
       "    <tr>\n",
       "      <th>9</th>\n",
       "      <td>Кіровоградська</td>\n",
       "      <td>0.721985</td>\n",
       "      <td>0.688914</td>\n",
       "    </tr>\n",
       "    <tr>\n",
       "      <th>10</th>\n",
       "      <td>Луганська</td>\n",
       "      <td>0.783412</td>\n",
       "      <td>0.787165</td>\n",
       "    </tr>\n",
       "    <tr>\n",
       "      <th>11</th>\n",
       "      <td>Львівська</td>\n",
       "      <td>0.539680</td>\n",
       "      <td>0.566405</td>\n",
       "    </tr>\n",
       "    <tr>\n",
       "      <th>12</th>\n",
       "      <td>Миколаївська</td>\n",
       "      <td>0.331621</td>\n",
       "      <td>0.327124</td>\n",
       "    </tr>\n",
       "    <tr>\n",
       "      <th>13</th>\n",
       "      <td>Одеська</td>\n",
       "      <td>0.701500</td>\n",
       "      <td>0.669288</td>\n",
       "    </tr>\n",
       "    <tr>\n",
       "      <th>14</th>\n",
       "      <td>Полтавська</td>\n",
       "      <td>0.827080</td>\n",
       "      <td>0.829309</td>\n",
       "    </tr>\n",
       "    <tr>\n",
       "      <th>15</th>\n",
       "      <td>Рівненська</td>\n",
       "      <td>0.526133</td>\n",
       "      <td>0.412394</td>\n",
       "    </tr>\n",
       "    <tr>\n",
       "      <th>16</th>\n",
       "      <td>Сумська</td>\n",
       "      <td>0.372570</td>\n",
       "      <td>0.372309</td>\n",
       "    </tr>\n",
       "    <tr>\n",
       "      <th>17</th>\n",
       "      <td>Тернопільська</td>\n",
       "      <td>0.442656</td>\n",
       "      <td>0.471448</td>\n",
       "    </tr>\n",
       "    <tr>\n",
       "      <th>18</th>\n",
       "      <td>Харківська</td>\n",
       "      <td>0.368811</td>\n",
       "      <td>0.470980</td>\n",
       "    </tr>\n",
       "    <tr>\n",
       "      <th>19</th>\n",
       "      <td>Херсонська</td>\n",
       "      <td>0.772184</td>\n",
       "      <td>0.809056</td>\n",
       "    </tr>\n",
       "    <tr>\n",
       "      <th>20</th>\n",
       "      <td>Хмельницька</td>\n",
       "      <td>0.693159</td>\n",
       "      <td>0.687728</td>\n",
       "    </tr>\n",
       "    <tr>\n",
       "      <th>21</th>\n",
       "      <td>Черкаська</td>\n",
       "      <td>0.769336</td>\n",
       "      <td>0.757575</td>\n",
       "    </tr>\n",
       "    <tr>\n",
       "      <th>22</th>\n",
       "      <td>Чернівецька</td>\n",
       "      <td>0.457176</td>\n",
       "      <td>0.472994</td>\n",
       "    </tr>\n",
       "    <tr>\n",
       "      <th>23</th>\n",
       "      <td>Чернігівська</td>\n",
       "      <td>0.546715</td>\n",
       "      <td>0.558786</td>\n",
       "    </tr>\n",
       "  </tbody>\n",
       "</table>\n",
       "</div>"
      ],
      "text/plain": [
       "               region  p2_06_raw_biprozorro  p2_06_raw_bizTenders\n",
       "0   Івано-Франківська              0.585842              0.519161\n",
       "1           Волинська              0.475664              0.461764\n",
       "2           Вінницька              0.821416              0.873118\n",
       "3    Дніпропетровська              0.473084              0.548829\n",
       "4            Донецька              0.747781              0.779114\n",
       "5         Житомирська              0.854600              0.877019\n",
       "6        Закарпатська              0.734048              0.619623\n",
       "7          Запорізька              0.673762              0.731062\n",
       "8            Київська              0.663947              0.571182\n",
       "9      Кіровоградська              0.721985              0.688914\n",
       "10          Луганська              0.783412              0.787165\n",
       "11          Львівська              0.539680              0.566405\n",
       "12       Миколаївська              0.331621              0.327124\n",
       "13            Одеська              0.701500              0.669288\n",
       "14         Полтавська              0.827080              0.829309\n",
       "15         Рівненська              0.526133              0.412394\n",
       "16            Сумська              0.372570              0.372309\n",
       "17      Тернопільська              0.442656              0.471448\n",
       "18         Харківська              0.368811              0.470980\n",
       "19         Херсонська              0.772184              0.809056\n",
       "20        Хмельницька              0.693159              0.687728\n",
       "21          Черкаська              0.769336              0.757575\n",
       "22        Чернівецька              0.457176              0.472994\n",
       "23       Чернігівська              0.546715              0.558786"
      ]
     },
     "execution_count": 10,
     "metadata": {},
     "output_type": "execute_result"
    }
   ],
   "source": [
    "pd.merge(\n",
    "    df_P02_007_fin_bipro.rename(columns={\"p2_06_raw\": \"p2_06_raw_biprozorro\"}).drop([\"open\", \"all\"], 1),\n",
    "    df_P02_007_fin_biz.rename(columns={\"p2_06_raw\": \"p2_06_raw_bizTenders\"}).drop([\"open\", \"all\"], 1),\n",
    "    on=\"region\"\n",
    ")"
   ]
  }
 ],
 "metadata": {
  "kernelspec": {
   "display_name": "Python 3",
   "language": "python",
   "name": "python3"
  },
  "language_info": {
   "codemirror_mode": {
    "name": "ipython",
    "version": 3
   },
   "file_extension": ".py",
   "mimetype": "text/x-python",
   "name": "python",
   "nbconvert_exporter": "python",
   "pygments_lexer": "ipython3",
   "version": "3.7.4"
  }
 },
 "nbformat": 4,
 "nbformat_minor": 4
}
