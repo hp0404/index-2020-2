{
 "cells": [
  {
   "cell_type": "markdown",
   "metadata": {},
   "source": [
    "# Порівняння bipro та biz (createDate, dateModified)"
   ]
  },
  {
   "cell_type": "code",
   "execution_count": null,
   "metadata": {},
   "outputs": [],
   "source": [
    "import pandas as pd\n",
    "from custom_func import *"
   ]
  },
  {
   "cell_type": "code",
   "execution_count": 2,
   "metadata": {},
   "outputs": [],
   "source": [
    "df_P02_006 = pd.read_excel(f\"{INPUTS_PATH}/P2/P02_006.xlsx\")\n",
    "df_P02_007 = pd.read_excel(f\"{INPUTS_PATH}/P2/P02_007.xlsx\")\n",
    "df_P02_007_dm = pd.read_excel(f\"{INPUTS_PATH}/P2/P02_007_dateModified.xlsx\")"
   ]
  },
  {
   "cell_type": "code",
   "execution_count": 3,
   "metadata": {},
   "outputs": [],
   "source": [
    "df_P02_007_dm[\"dateModified\"] = pd.to_datetime(df_P02_007_dm[\"dateModified\"], format=\"%d.%m.%Y\")\n",
    "df_P02_007_dm = df_P02_007_dm.loc[df_P02_007_dm[\"dateModified\"].between(\"2020-04-01\", \"2020-06-30\")].copy()"
   ]
  },
  {
   "cell_type": "code",
   "execution_count": 4,
   "metadata": {},
   "outputs": [],
   "source": [
    "colnames = {\n",
    "    \"Область\": \"region\",\n",
    "    \"Податки на одну особу (p2_01)\":'p2_01_raw',\n",
    "    \"Дохід без міжбюдж. трансфертів (p2_02)\":'p2_02_raw',\n",
    "    \"Дохід без міжбюдж. трансфертів порівняно з минулим періодом (p2_03)\": \"p2_03_raw\",\n",
    "    \"Капітальні видатки (p2_04)\":'p2_04_raw',\n",
    "    \"Плата за землю (p2_05)\":'p2_05_raw'\n",
    "}\n",
    "\n",
    "df_P02_006 = pd.read_excel(f\"{INPUTS_PATH}/P2/P02_006.xlsx\").rename(columns=colnames)"
   ]
  },
  {
   "cell_type": "code",
   "execution_count": 5,
   "metadata": {},
   "outputs": [
    {
     "name": "stdout",
     "output_type": "stream",
     "text": [
      "Емпіричні границі: (273.1319492833434, 1419.510256667407)\n",
      "Коефіцієнти нормалізації: (0.0008723123889895594, -0.23825638318872844)\n",
      "Параметр p2_01 нормалізовано і додано до таблиці\n",
      "\n",
      "Емпіричні границі: (689342314.3199999, 6955395883.62)\n",
      "Коефіцієнти нормалізації: (1.595900815306488e-10, -0.11001219614485493)\n",
      "Параметр p2_02 нормалізовано і додано до таблиці\n",
      "\n",
      "Емпіричні границі: (0.624658426803403, 1.168221845737069)\n",
      "Коефіцієнти нормалізації: (1.8397117340268172, -1.1491914375489523)\n",
      "Параметр p2_03 нормалізовано і додано до таблиці\n",
      "\n",
      "Емпіричні границі: (64811628, 1646013700)\n",
      "Коефіцієнти нормалізації: (6.324302362791237e-10, -0.04098883320967467)\n",
      "Параметр p2_04 нормалізовано і додано до таблиці\n",
      "\n",
      "Емпіричні границі: (60392282.4, 729124352.5)\n",
      "Коефіцієнти нормалізації: (1.4953671951914363e-09, -0.09030863794369715)\n",
      "Параметр p2_05 нормалізовано і додано до таблиці\n",
      "\n"
     ]
    }
   ],
   "source": [
    "normalize_parameter(df_P02_006, \"p2_01_raw\", \"p2_01\")\n",
    "normalize_parameter(df_P02_006, \"p2_02_raw\", \"p2_02\")\n",
    "normalize_parameter(df_P02_006, \"p2_03_raw\", \"p2_03\")\n",
    "normalize_parameter(df_P02_006, \"p2_04_raw\", \"p2_04\")\n",
    "normalize_parameter(df_P02_006, \"p2_05_raw\", \"p2_05\")\n",
    "\n",
    "df_P02_006_fin = df_P02_006.loc[:, df_P02_006.columns.str.contains(\"region|^p\")]"
   ]
  },
  {
   "cell_type": "markdown",
   "metadata": {},
   "source": [
    "---"
   ]
  },
  {
   "cell_type": "markdown",
   "metadata": {},
   "source": [
    "# Розрахунки на даних, отриманих з BizTenders"
   ]
  },
  {
   "cell_type": "code",
   "execution_count": 6,
   "metadata": {},
   "outputs": [],
   "source": [
    "df_P02_007_fin = df_P02_007.loc[df_P02_007[\"status\"].eq(\"complete\")].copy()"
   ]
  },
  {
   "cell_type": "code",
   "execution_count": 7,
   "metadata": {},
   "outputs": [],
   "source": [
    "df_P02_007_fin[\"Чи відкриті торги?\"] = df_P02_007_fin[\"procurementMethod\"].eq(\"open\").astype(int)\n",
    "open_procur = df_P02_007_fin.loc[df_P02_007_fin['Чи відкриті торги?']==1].groupby('region')[\"tenderValue\"].sum().rename('open')\n",
    "all_procur = df_P02_007_fin.groupby('region')[\"tenderValue\"].sum().rename('all')\n",
    "df_P02_007_fin = pd.concat([open_procur, all_procur], axis=1).reset_index()\n",
    "df_P02_007_fin[\"p2_06_raw\"] = df_P02_007_fin[\"open\"] / df_P02_007_fin[\"all\"]"
   ]
  },
  {
   "cell_type": "code",
   "execution_count": 8,
   "metadata": {},
   "outputs": [],
   "source": [
    "df_P02_007_fin_biz = df_P02_007_fin.copy()"
   ]
  },
  {
   "cell_type": "code",
   "execution_count": null,
   "metadata": {},
   "outputs": [],
   "source": []
  },
  {
   "cell_type": "code",
   "execution_count": 9,
   "metadata": {},
   "outputs": [],
   "source": [
    "df_P02_007_fin = df_P02_007_dm.loc[df_P02_007_dm[\"status\"].eq(\"complete\")].copy()\n",
    "df_P02_007_fin[\"Чи відкриті торги?\"] = df_P02_007_fin[\"procurementMethod\"].eq(\"open\").astype(int)\n",
    "open_procur = df_P02_007_fin.loc[df_P02_007_fin['Чи відкриті торги?']==1].groupby('region')[\"tenderValue\"].sum().rename('open')\n",
    "all_procur = df_P02_007_fin.groupby('region')[\"tenderValue\"].sum().rename('all')\n",
    "df_P02_007_fin = pd.concat([open_procur, all_procur], axis=1).reset_index()\n",
    "df_P02_007_fin[\"p2_06_raw\"] = df_P02_007_fin[\"open\"] / df_P02_007_fin[\"all\"]\n",
    "df_P02_007_fin_biz_datemodified = df_P02_007_fin.copy()"
   ]
  },
  {
   "cell_type": "markdown",
   "metadata": {},
   "source": [
    "---"
   ]
  },
  {
   "cell_type": "markdown",
   "metadata": {},
   "source": [
    "# Розрахунки на даних bi.prozorro"
   ]
  },
  {
   "cell_type": "code",
   "execution_count": 10,
   "metadata": {},
   "outputs": [],
   "source": [
    "df = pd.read_excel(\"./../v0.5/inputs/P2/P02_007_prozorro.xlsx\")\n",
    "\n",
    "open_procedures = [\"Відкриті торги\", \"Відкриті торги із публікацією англ. мовою\"]\n",
    "df[\"Чи відкриті торги?\"] = df[\"Процедура закупівлі\"].isin(open_procedures).astype(int)\n",
    "\n",
    "df = df.loc[df[\"Статуси процедур\"].eq(\"Завершена закупівля\")].copy()\n",
    "open_procur = df.loc[df['Чи відкриті торги?']==1].groupby('region')[\"Очікувана вартість\"].sum().rename('open')\n",
    "all_procur = df.groupby('region')[\"Очікувана вартість\"].sum().rename('all')\n",
    "df_P02_007_fin = pd.concat([open_procur, all_procur], axis=1).reset_index()\n",
    "df_P02_007_fin[\"p2_06_raw\"] = df_P02_007_fin[\"open\"] / df_P02_007_fin[\"all\"]\n",
    "\n",
    "# normalize_parameter(df_P02_007_fin, \"p2_06_raw\", \"p2_06\", min_bound=0)"
   ]
  },
  {
   "cell_type": "code",
   "execution_count": 11,
   "metadata": {},
   "outputs": [],
   "source": [
    "df_P02_007_fin_bipro = df_P02_007_fin.copy()"
   ]
  },
  {
   "cell_type": "markdown",
   "metadata": {},
   "source": [
    "---"
   ]
  },
  {
   "cell_type": "markdown",
   "metadata": {},
   "source": [
    "# Розрахунки даних за OB"
   ]
  },
  {
   "cell_type": "markdown",
   "metadata": {},
   "source": [
    "---"
   ]
  },
  {
   "cell_type": "code",
   "execution_count": 12,
   "metadata": {},
   "outputs": [],
   "source": [
    "res = pd.merge(\n",
    "    df_P02_007_fin_bipro.rename(columns={\"p2_06_raw\": \"p2_06_raw_biprozorro\"}).drop([\"open\", \"all\"], 1),\n",
    "    df_P02_007_fin_biz.rename(columns={\"p2_06_raw\": \"p2_06_raw_bizTenders_createDate\"}).drop([\"open\", \"all\"], 1),\n",
    "    on=\"region\"\n",
    ").merge(df_P02_007_fin_biz_datemodified.rename(columns={\"p2_06_raw\": \"p2_06_raw_bizTenders_dateModified\"}).drop([\"open\", \"all\"], 1),on=\"region\")"
   ]
  },
  {
   "cell_type": "code",
   "execution_count": 13,
   "metadata": {},
   "outputs": [],
   "source": [
    "from tabulate import tabulate"
   ]
  },
  {
   "cell_type": "code",
   "execution_count": 25,
   "metadata": {},
   "outputs": [
    {
     "name": "stdout",
     "output_type": "stream",
     "text": [
      "| region            |   p2_06_raw_biprozorro |   p2_06_raw_bizTenders_createDate |   p2_06_raw_bizTenders_dateModified |\n",
      "|:------------------|-----------------------:|----------------------------------:|------------------------------------:|\n",
      "| Івано-Франківська |                   0.59 |                              0.52 |                                0.84 |\n",
      "| Волинська         |                   0.48 |                              0.46 |                                0.56 |\n",
      "| Вінницька         |                   0.82 |                              0.87 |                                0.94 |\n",
      "| Дніпропетровська  |                   0.47 |                              0.55 |                                0.63 |\n",
      "| Донецька          |                   0.75 |                              0.78 |                                0.87 |\n",
      "| Житомирська       |                   0.85 |                              0.88 |                                0.92 |\n",
      "| Закарпатська      |                   0.73 |                              0.62 |                                0.79 |\n",
      "| Запорізька        |                   0.67 |                              0.73 |                                0.9  |\n",
      "| Київська          |                   0.66 |                              0.57 |                                0.73 |\n",
      "| Кіровоградська    |                   0.72 |                              0.69 |                                0.86 |\n",
      "| Луганська         |                   0.78 |                              0.79 |                                0.86 |\n",
      "| Львівська         |                   0.54 |                              0.57 |                                0.75 |\n",
      "| Миколаївська      |                   0.33 |                              0.33 |                                0.88 |\n",
      "| Одеська           |                   0.7  |                              0.67 |                                0.83 |\n",
      "| Полтавська        |                   0.83 |                              0.83 |                                0.86 |\n",
      "| Рівненська        |                   0.53 |                              0.41 |                                0.78 |\n",
      "| Сумська           |                   0.37 |                              0.37 |                                0.38 |\n",
      "| Тернопільська     |                   0.44 |                              0.47 |                                0.8  |\n",
      "| Харківська        |                   0.37 |                              0.47 |                                0.86 |\n",
      "| Херсонська        |                   0.77 |                              0.81 |                                0.9  |\n",
      "| Хмельницька       |                   0.69 |                              0.69 |                                0.71 |\n",
      "| Черкаська         |                   0.77 |                              0.76 |                                0.86 |\n",
      "| Чернівецька       |                   0.46 |                              0.47 |                                0.65 |\n",
      "| Чернігівська      |                   0.55 |                              0.56 |                                0.64 |\n"
     ]
    }
   ],
   "source": [
    "print(tabulate(res.round(2).set_index(\"region\"), tablefmt=\"pipe\", headers=\"keys\"))"
   ]
  }
 ],
 "metadata": {
  "kernelspec": {
   "display_name": "Python 3",
   "language": "python",
   "name": "python3"
  },
  "language_info": {
   "codemirror_mode": {
    "name": "ipython",
    "version": 3
   },
   "file_extension": ".py",
   "mimetype": "text/x-python",
   "name": "python",
   "nbconvert_exporter": "python",
   "pygments_lexer": "ipython3",
   "version": "3.7.4"
  }
 },
 "nbformat": 4,
 "nbformat_minor": 4
}
