{
 "cells": [
  {
   "cell_type": "code",
   "execution_count": 1,
   "metadata": {},
   "outputs": [],
   "source": [
    "import pandas as pd\n",
    "from tabulate import tabulate\n",
    "from custom_func import *"
   ]
  },
  {
   "cell_type": "code",
   "execution_count": 4,
   "metadata": {},
   "outputs": [],
   "source": [
    "# biz; createDate, єдрпоу з казначейства\n",
    "biz_createdate = pd.read_excel(f\"{INPUTS_PATH}/P2/P02_007.xlsx\")\n",
    "\n",
    "# biz; createDate, єдрпоу з disposers\n",
    "biz_createdate_disposers = pd.read_excel(f\"{INPUTS_PATH}/P2/P02_007_disposers_timecreate.xlsx\")\n",
    "\n",
    "# biz; dateModified; єдрпоу з казначейства\n",
    "biz_datemodified = pd.read_excel(f\"{INPUTS_PATH}/P2/P02_007_dateModified.xlsx\")\n",
    "biz_datemodified[\"dateModified\"] = pd.to_datetime(biz_datemodified[\"dateModified\"], format=\"%d.%m.%Y\")\n",
    "biz_datemodified = biz_datemodified.loc[biz_datemodified[\"dateModified\"].between(\"2020-04-01\", \"2020-06-30\")].copy()\n",
    "# bipro\n",
    "pro = pd.read_excel(f\"{INPUTS_PATH}/P2/P02_007_prozorro.xlsx\")"
   ]
  },
  {
   "cell_type": "markdown",
   "metadata": {},
   "source": [
    "# Counts"
   ]
  },
  {
   "cell_type": "code",
   "execution_count": 31,
   "metadata": {},
   "outputs": [
    {
     "data": {
      "text/plain": [
       "array(['Період уточнень', 'Завершена закупівля', 'Очікування пропозицій',\n",
       "       'Активна закупівля', 'Відмінена закупівля',\n",
       "       'Кваліфікація переможця', 'Закупівля не відбулась',\n",
       "       'Період аукціону', 'Пропозиції розглянуто', 'Прекваліфікація',\n",
       "       'Прекваліфікація (період оскаржень)'], dtype=object)"
      ]
     },
     "execution_count": 31,
     "metadata": {},
     "output_type": "execute_result"
    }
   ],
   "source": [
    "pro[\"Статуси процедур\"].unique()"
   ]
  },
  {
   "cell_type": "code",
   "execution_count": 21,
   "metadata": {},
   "outputs": [],
   "source": [
    "def count_tenders(data, label, procedure=False):\n",
    "    \n",
    "    _columns = {\"Ідентифікатор лота\": \"tenderId\", \"Статуси процедур\", \"status\"}\n",
    "    df = data.copy()\n",
    "    if procedure:\n",
    "        df = df.loc[df[\"status\"].isin([\"complete\", \"Завершена закупівля\"])]\n",
    "        \n",
    "    g = df.rename(columns=_columns)\\\n",
    "            .groupby(\"region\")[\"tenderId\"].size()\\\n",
    "            .rename(f\"{label}_size\")\n",
    "    return g"
   ]
  },
  {
   "cell_type": "code",
   "execution_count": 22,
   "metadata": {},
   "outputs": [],
   "source": [
    "g1 = count_tenders(biz_createdate, \"biz_createdate\")\n",
    "g2 = count_tenders(biz_createdate_disposers, \"biz_createdate_disposers\")\n",
    "\n",
    "g3 = count_tenders(biz_datemodified, \"biz_datemodified\")\n",
    "g4 = count_tenders(pro, \"pro\")"
   ]
  },
  {
   "cell_type": "code",
   "execution_count": 23,
   "metadata": {},
   "outputs": [],
   "source": [
    "# усі \n",
    "counts1 = pd.concat([g4, g1, g2, g3], axis=1)\n",
    "\n",
    "# openbudget vs казначейство\n",
    "counts2 = pd.concat([g1, g2], axis=1)"
   ]
  },
  {
   "cell_type": "code",
   "execution_count": 24,
   "metadata": {},
   "outputs": [
    {
     "name": "stdout",
     "output_type": "stream",
     "text": [
      "| region            |   pro_size |   biz_createdate_size |   biz_createdate_disposers_size |   biz_datemodified_size |\n",
      "|:------------------|-----------:|----------------------:|--------------------------------:|------------------------:|\n",
      "| Івано-Франківська |       2905 |                  2804 |                            2869 |                    2941 |\n",
      "| Волинська         |       3521 |                  3447 |                            3424 |                    3571 |\n",
      "| Вінницька         |       4258 |                  4143 |                            4373 |                    4551 |\n",
      "| Дніпропетровська  |       5404 |                  5214 |                            5406 |                    6062 |\n",
      "| Донецька          |       5694 |                  5383 |                            5592 |                    5712 |\n",
      "| Житомирська       |       3454 |                  3278 |                            3379 |                    3598 |\n",
      "| Закарпатська      |       1956 |                  1908 |                            1956 |                    1986 |\n",
      "| Запорізька        |       3742 |                  3494 |                            3536 |                    3946 |\n",
      "| Київська          |       2735 |                  2669 |                            2776 |                    2818 |\n",
      "| Кіровоградська    |       2966 |                  2904 |                            2775 |                    3042 |\n",
      "| Луганська         |       2485 |                  2452 |                            2550 |                    2526 |\n",
      "| Львівська         |       2678 |                  2547 |                            2655 |                    2803 |\n",
      "| Миколаївська      |       2951 |                  2857 |                            2774 |                    2991 |\n",
      "| Одеська           |       3107 |                  3028 |                            3228 |                    3217 |\n",
      "| Полтавська        |       4524 |                  4429 |                            4477 |                    4709 |\n",
      "| Рівненська        |       3160 |                  3088 |                            3178 |                    3230 |\n",
      "| Сумська           |       3189 |                  3008 |                            3141 |                    3136 |\n",
      "| Тернопільська     |       2352 |                  2293 |                            2694 |                    2380 |\n",
      "| Харківська        |       6351 |                  6245 |                            6387 |                    6532 |\n",
      "| Херсонська        |       2917 |                  2779 |                            2839 |                    2924 |\n",
      "| Хмельницька       |       3568 |                  3439 |                            3390 |                    3535 |\n",
      "| Черкаська         |       4251 |                  4166 |                            4306 |                    4363 |\n",
      "| Чернівецька       |       1471 |                  1422 |                             847 |                    1489 |\n",
      "| Чернігівська      |       4410 |                  4283 |                            4422 |                    4672 |\n"
     ]
    }
   ],
   "source": [
    "print(tabulate(counts1, tablefmt=\"pipe\", headers=\"keys\"))"
   ]
  },
  {
   "cell_type": "code",
   "execution_count": 25,
   "metadata": {},
   "outputs": [
    {
     "name": "stdout",
     "output_type": "stream",
     "text": [
      "| region            |   biz_createdate_size |   biz_createdate_disposers_size |   diff |\n",
      "|:------------------|----------------------:|--------------------------------:|-------:|\n",
      "| Івано-Франківська |                  2804 |                            2869 |    -65 |\n",
      "| Волинська         |                  3447 |                            3424 |     23 |\n",
      "| Вінницька         |                  4143 |                            4373 |   -230 |\n",
      "| Дніпропетровська  |                  5214 |                            5406 |   -192 |\n",
      "| Донецька          |                  5383 |                            5592 |   -209 |\n",
      "| Житомирська       |                  3278 |                            3379 |   -101 |\n",
      "| Закарпатська      |                  1908 |                            1956 |    -48 |\n",
      "| Запорізька        |                  3494 |                            3536 |    -42 |\n",
      "| Київська          |                  2669 |                            2776 |   -107 |\n",
      "| Кіровоградська    |                  2904 |                            2775 |    129 |\n",
      "| Луганська         |                  2452 |                            2550 |    -98 |\n",
      "| Львівська         |                  2547 |                            2655 |   -108 |\n",
      "| Миколаївська      |                  2857 |                            2774 |     83 |\n",
      "| Одеська           |                  3028 |                            3228 |   -200 |\n",
      "| Полтавська        |                  4429 |                            4477 |    -48 |\n",
      "| Рівненська        |                  3088 |                            3178 |    -90 |\n",
      "| Сумська           |                  3008 |                            3141 |   -133 |\n",
      "| Тернопільська     |                  2293 |                            2694 |   -401 |\n",
      "| Харківська        |                  6245 |                            6387 |   -142 |\n",
      "| Херсонська        |                  2779 |                            2839 |    -60 |\n",
      "| Хмельницька       |                  3439 |                            3390 |     49 |\n",
      "| Черкаська         |                  4166 |                            4306 |   -140 |\n",
      "| Чернівецька       |                  1422 |                             847 |    575 |\n",
      "| Чернігівська      |                  4283 |                            4422 |   -139 |\n"
     ]
    }
   ],
   "source": [
    "counts2[\"diff\"] = counts2[\"biz_createdate_size\"] - counts2[\"biz_createdate_disposers_size\"]\n",
    "print(tabulate(counts2, tablefmt=\"pipe\", headers=\"keys\"))"
   ]
  },
  {
   "cell_type": "code",
   "execution_count": 27,
   "metadata": {},
   "outputs": [
    {
     "name": "stdout",
     "output_type": "stream",
     "text": [
      "| region            |   biz_createdate_size |   biz_createdate_disposers_size |   diff |\n",
      "|:------------------|----------------------:|--------------------------------:|-------:|\n",
      "| Івано-Франківська |                  2674 |                            2734 |    -60 |\n",
      "| Волинська         |                  3250 |                            3262 |    -12 |\n",
      "| Вінницька         |                  3703 |                            3916 |   -213 |\n",
      "| Дніпропетровська  |                  3909 |                            4055 |   -146 |\n",
      "| Донецька          |                  4816 |                            5014 |   -198 |\n",
      "| Житомирська       |                  2821 |                            2903 |    -82 |\n",
      "| Закарпатська      |                  1838 |                            1881 |    -43 |\n",
      "| Запорізька        |                  2666 |                            2745 |    -79 |\n",
      "| Київська          |                  2473 |                            2570 |    -97 |\n",
      "| Кіровоградська    |                  2710 |                            2593 |    117 |\n",
      "| Луганська         |                  2347 |                            2423 |    -76 |\n",
      "| Львівська         |                  2278 |                            2376 |    -98 |\n",
      "| Миколаївська      |                  2604 |                            2490 |    114 |\n",
      "| Одеська           |                  2812 |                            2939 |   -127 |\n",
      "| Полтавська        |                  4203 |                            4251 |    -48 |\n",
      "| Рівненська        |                  2967 |                            3035 |    -68 |\n",
      "| Сумська           |                  2779 |                            2886 |   -107 |\n",
      "| Тернопільська     |                  2172 |                            2525 |   -353 |\n",
      "| Харківська        |                  5836 |                            5942 |   -106 |\n",
      "| Херсонська        |                  2593 |                            2662 |    -69 |\n",
      "| Хмельницька       |                  3238 |                            3224 |     14 |\n",
      "| Черкаська         |                  3947 |                            4077 |   -130 |\n",
      "| Чернівецька       |                  1348 |                             812 |    536 |\n",
      "| Чернігівська      |                  3806 |                            3899 |    -93 |\n"
     ]
    }
   ],
   "source": [
    "g1 = count_tenders(biz_createdate, \"biz_createdate\", procedure=True)\n",
    "g2 = count_tenders(biz_createdate_disposers, \"biz_createdate_disposers\", procedure=True)\n",
    "mask = pd.concat([g1, g2], axis=1)\n",
    "\n",
    "mask[\"diff\"] = mask[\"biz_createdate_size\"] - mask[\"biz_createdate_disposers_size\"]\n",
    "print(tabulate(mask, tablefmt=\"pipe\", headers=\"keys\"))"
   ]
  },
  {
   "cell_type": "markdown",
   "metadata": {},
   "source": [
    "# Sums"
   ]
  },
  {
   "cell_type": "code",
   "execution_count": 34,
   "metadata": {},
   "outputs": [],
   "source": [
    "def summarize_tenders(data, label, procedure=False):\n",
    "    _columns = {\"Очікувана вартість\" : \"tenderValue\", \"Статуси процедур\": \"status\"}\n",
    "    df = data.copy()\n",
    "    if procedure:\n",
    "        df = df.loc[df[\"status\"].isin([\"complete\", \"Завершена закупівля\"])]\n",
    "        \n",
    "    g = df.rename(columns=_columns)\\\n",
    "            .groupby(\"region\")[\"tenderValue\"].sum()\\\n",
    "            .rename(f\"{label}_sum\")\n",
    "    return g"
   ]
  },
  {
   "cell_type": "code",
   "execution_count": 35,
   "metadata": {},
   "outputs": [],
   "source": [
    "g1 = summarize_tenders(biz_createdate, \"biz_createdate\")\n",
    "g2 = summarize_tenders(biz_createdate_disposers, \"biz_createdate_disposers\")\n",
    "\n",
    "g3 = summarize_tenders(biz_datemodified, \"biz_datemodified\")\n",
    "g4 = summarize_tenders(pro, \"pro\")"
   ]
  },
  {
   "cell_type": "code",
   "execution_count": 36,
   "metadata": {},
   "outputs": [],
   "source": [
    "# усі \n",
    "sums1 = pd.concat([g4, g1, g2, g3], axis=1)\n",
    "\n",
    "# openbudget vs казначейство\n",
    "sums2 = pd.concat([g1, g2], axis=1)"
   ]
  },
  {
   "cell_type": "code",
   "execution_count": 37,
   "metadata": {},
   "outputs": [
    {
     "name": "stdout",
     "output_type": "stream",
     "text": [
      "| region            |   pro_sum |   biz_createdate_sum |   biz_createdate_disposers_sum |   biz_datemodified_sum |\n",
      "|:------------------|----------:|---------------------:|-------------------------------:|-----------------------:|\n",
      "| Івано-Франківська |   2116.36 |              2112.51 |                        5329.7  |                3104.51 |\n",
      "| Волинська         |    948.47 |               772.9  |                         191.18 |                 994.86 |\n",
      "| Вінницька         |   1065.59 |              1062.64 |                        2090.68 |                2034.31 |\n",
      "| Дніпропетровська  |   3107.75 |              3092.52 |                       34466.5  |                3912.67 |\n",
      "| Донецька          |   2601.91 |              2593.84 |                        4655.53 |                3584.86 |\n",
      "| Житомирська       |   1989.41 |              1990.72 |                        4202.33 |                2515.12 |\n",
      "| Закарпатська      |   2273.67 |              2272.97 |                        4518.22 |                3228.34 |\n",
      "| Запорізька        |   1165.79 |              1146.37 |                        1882.44 |                2373.02 |\n",
      "| Київська          |   1916.81 |              1913.28 |                        2045.15 |                2666.03 |\n",
      "| Кіровоградська    |    822.08 |               819.98 |                         718.65 |                1232.53 |\n",
      "| Луганська         |    965.58 |               951.04 |                        5593.04 |                1361.44 |\n",
      "| Львівська         |   1884.22 |              1873.37 |                        2868.84 |                2248.04 |\n",
      "| Миколаївська      |    264.26 |               263.2  |                        2589.48 |                1419.37 |\n",
      "| Одеська           |   1664.36 |              1656.52 |                        5617.01 |                2191.2  |\n",
      "| Полтавська        |   2206.82 |              2198.68 |                        2198.99 |                2869.8  |\n",
      "| Рівненська        |    527.28 |               524.81 |                        2042.91 |                 904.88 |\n",
      "| Сумська           |   3455.5  |              3454.05 |                        4872.35 |                3490.19 |\n",
      "| Тернопільська     |    218.28 |               218.02 |                        2000.49 |                 400.15 |\n",
      "| Харківська        |    924.82 |               766.78 |                        1827.83 |                1823.52 |\n",
      "| Херсонська        |    794.69 |               791.09 |                        1014.24 |                1359.57 |\n",
      "| Хмельницька       |   1277.09 |              1274.29 |                        2717.01 |                1438.22 |\n",
      "| Черкаська         |    966.53 |               963.74 |                        1657.03 |                1500.99 |\n",
      "| Чернівецька       |    142.39 |               141.87 |                         534.03 |                 268.26 |\n",
      "| Чернігівська      |    731.84 |               717    |                        4064.33 |                1695.42 |\n"
     ]
    }
   ],
   "source": [
    "print(tabulate((sums1 / 1_000_000).round(2), tablefmt=\"pipe\", headers=\"keys\"))"
   ]
  },
  {
   "cell_type": "code",
   "execution_count": 38,
   "metadata": {},
   "outputs": [
    {
     "name": "stdout",
     "output_type": "stream",
     "text": [
      "| region            |   biz_createdate_sum |   biz_createdate_disposers_sum |\n",
      "|:------------------|---------------------:|-------------------------------:|\n",
      "| Івано-Франківська |              2112.51 |                        5329.7  |\n",
      "| Волинська         |               772.9  |                         191.18 |\n",
      "| Вінницька         |              1062.64 |                        2090.68 |\n",
      "| Дніпропетровська  |              3092.52 |                       34466.5  |\n",
      "| Донецька          |              2593.84 |                        4655.53 |\n",
      "| Житомирська       |              1990.72 |                        4202.33 |\n",
      "| Закарпатська      |              2272.97 |                        4518.22 |\n",
      "| Запорізька        |              1146.37 |                        1882.44 |\n",
      "| Київська          |              1913.28 |                        2045.15 |\n",
      "| Кіровоградська    |               819.98 |                         718.65 |\n",
      "| Луганська         |               951.04 |                        5593.04 |\n",
      "| Львівська         |              1873.37 |                        2868.84 |\n",
      "| Миколаївська      |               263.2  |                        2589.48 |\n",
      "| Одеська           |              1656.52 |                        5617.01 |\n",
      "| Полтавська        |              2198.68 |                        2198.99 |\n",
      "| Рівненська        |               524.81 |                        2042.91 |\n",
      "| Сумська           |              3454.05 |                        4872.35 |\n",
      "| Тернопільська     |               218.02 |                        2000.49 |\n",
      "| Харківська        |               766.78 |                        1827.83 |\n",
      "| Херсонська        |               791.09 |                        1014.24 |\n",
      "| Хмельницька       |              1274.29 |                        2717.01 |\n",
      "| Черкаська         |               963.74 |                        1657.03 |\n",
      "| Чернівецька       |               141.87 |                         534.03 |\n",
      "| Чернігівська      |               717    |                        4064.33 |\n"
     ]
    }
   ],
   "source": [
    "print(tabulate((sums2 / 1_000_000).round(2), tablefmt=\"pipe\", headers=\"keys\"))"
   ]
  },
  {
   "cell_type": "code",
   "execution_count": 39,
   "metadata": {},
   "outputs": [
    {
     "name": "stdout",
     "output_type": "stream",
     "text": [
      "| region            |   biz_createdate_sum |   biz_createdate_disposers_sum |         diff |\n",
      "|:------------------|---------------------:|-------------------------------:|-------------:|\n",
      "| Івано-Франківська |             252.014  |                       287.734  |   -35.72     |\n",
      "| Волинська         |             147.438  |                        96.9883 |    50.4498   |\n",
      "| Вінницька         |             471.762  |                       609.34   |  -137.579    |\n",
      "| Дніпропетровська  |             991.724  |                      1019.82   |   -28.0985   |\n",
      "| Донецька          |             831.587  |                      2227.8    | -1396.21     |\n",
      "| Житомирська       |             562.323  |                       636.928  |   -74.6046   |\n",
      "| Закарпатська      |             384.611  |                       445.241  |   -60.6294   |\n",
      "| Запорізька        |             482.837  |                       350.535  |   132.302    |\n",
      "| Київська          |             564.083  |                       580.413  |   -16.3296   |\n",
      "| Кіровоградська    |             245.896  |                       182.904  |    62.9922   |\n",
      "| Луганська         |             493.518  |                       688.041  |  -194.523    |\n",
      "| Львівська         |             366.233  |                       380.367  |   -14.1344   |\n",
      "| Миколаївська      |             127.369  |                       121.094  |     6.27541  |\n",
      "| Одеська           |             456.282  |                       931.637  |  -475.354    |\n",
      "| Полтавська        |            1610.9    |                      1611.21   |    -0.303402 |\n",
      "| Рівненська        |             153.246  |                       162.776  |    -9.52908  |\n",
      "| Сумська           |            2728.42   |                      2731.7    |    -3.27815  |\n",
      "| Тернопільська     |              67.0854 |                      1440.26   | -1373.17     |\n",
      "| Харківська        |             296.79   |                       304.537  |    -7.74706  |\n",
      "| Херсонська        |             319.608  |                       192.043  |   127.564    |\n",
      "| Хмельницька       |             544.519  |                       291.983  |   252.536    |\n",
      "| Черкаська         |             355.702  |                       363.013  |    -7.31037  |\n",
      "| Чернівецька       |              74.8059 |                        31.5312 |    43.2746   |\n",
      "| Чернігівська      |             154.912  |                       175.24   |   -20.3273   |\n"
     ]
    }
   ],
   "source": [
    "g1 = summarize_tenders(biz_createdate, \"biz_createdate\", procedure=True)\n",
    "g2 = summarize_tenders(biz_createdate_disposers, \"biz_createdate_disposers\", procedure=True)\n",
    "mask = pd.concat([g1, g2], axis=1)\n",
    "\n",
    "mask[\"diff\"] = mask[\"biz_createdate_sum\"] - mask[\"biz_createdate_disposers_sum\"]\n",
    "print(tabulate(mask / 1_000_000, tablefmt=\"pipe\", headers=\"keys\"))"
   ]
  }
 ],
 "metadata": {
  "kernelspec": {
   "display_name": "Python 3",
   "language": "python",
   "name": "python3"
  },
  "language_info": {
   "codemirror_mode": {
    "name": "ipython",
    "version": 3
   },
   "file_extension": ".py",
   "mimetype": "text/x-python",
   "name": "python",
   "nbconvert_exporter": "python",
   "pygments_lexer": "ipython3",
   "version": "3.7.4"
  }
 },
 "nbformat": 4,
 "nbformat_minor": 4
}
